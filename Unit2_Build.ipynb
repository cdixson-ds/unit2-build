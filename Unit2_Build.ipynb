{
  "nbformat": 4,
  "nbformat_minor": 0,
  "metadata": {
    "colab": {
      "name": "Unit2-Build.ipynb",
      "provenance": [],
      "authorship_tag": "ABX9TyNvnEFdYWJtheo+HepFuV6E",
      "include_colab_link": true
    },
    "kernelspec": {
      "name": "python3",
      "display_name": "Python 3"
    }
  },
  "cells": [
    {
      "cell_type": "markdown",
      "metadata": {
        "id": "view-in-github",
        "colab_type": "text"
      },
      "source": [
        "<a href=\"https://colab.research.google.com/github/cdixson-ds/unit2-build/blob/master/Unit2_Build.ipynb\" target=\"_parent\"><img src=\"https://colab.research.google.com/assets/colab-badge.svg\" alt=\"Open In Colab\"/></a>"
      ]
    },
    {
      "cell_type": "markdown",
      "metadata": {
        "id": "hEMc6-8wEK0N",
        "colab_type": "text"
      },
      "source": [
        "Imports:"
      ]
    },
    {
      "cell_type": "code",
      "metadata": {
        "id": "K2XM3EX8DXju",
        "colab_type": "code",
        "colab": {
          "base_uri": "https://localhost:8080/",
          "height": 210
        },
        "outputId": "c9d456e7-414f-44f9-bc22-407093d8c6aa"
      },
      "source": [
        "!pip install category_encoders==2.*"
      ],
      "execution_count": 1,
      "outputs": [
        {
          "output_type": "stream",
          "text": [
            "Requirement already satisfied: category_encoders==2.* in /usr/local/lib/python3.6/dist-packages (2.1.0)\n",
            "Requirement already satisfied: scipy>=0.19.0 in /usr/local/lib/python3.6/dist-packages (from category_encoders==2.*) (1.4.1)\n",
            "Requirement already satisfied: numpy>=1.11.3 in /usr/local/lib/python3.6/dist-packages (from category_encoders==2.*) (1.17.5)\n",
            "Requirement already satisfied: pandas>=0.21.1 in /usr/local/lib/python3.6/dist-packages (from category_encoders==2.*) (0.25.3)\n",
            "Requirement already satisfied: scikit-learn>=0.20.0 in /usr/local/lib/python3.6/dist-packages (from category_encoders==2.*) (0.22.1)\n",
            "Requirement already satisfied: statsmodels>=0.6.1 in /usr/local/lib/python3.6/dist-packages (from category_encoders==2.*) (0.10.2)\n",
            "Requirement already satisfied: patsy>=0.4.1 in /usr/local/lib/python3.6/dist-packages (from category_encoders==2.*) (0.5.1)\n",
            "Requirement already satisfied: python-dateutil>=2.6.1 in /usr/local/lib/python3.6/dist-packages (from pandas>=0.21.1->category_encoders==2.*) (2.6.1)\n",
            "Requirement already satisfied: pytz>=2017.2 in /usr/local/lib/python3.6/dist-packages (from pandas>=0.21.1->category_encoders==2.*) (2018.9)\n",
            "Requirement already satisfied: joblib>=0.11 in /usr/local/lib/python3.6/dist-packages (from scikit-learn>=0.20.0->category_encoders==2.*) (0.14.1)\n",
            "Requirement already satisfied: six in /usr/local/lib/python3.6/dist-packages (from patsy>=0.4.1->category_encoders==2.*) (1.12.0)\n"
          ],
          "name": "stdout"
        }
      ]
    },
    {
      "cell_type": "code",
      "metadata": {
        "id": "R-yYegxkEG1H",
        "colab_type": "code",
        "colab": {}
      },
      "source": [
        "import pandas as pd\n",
        "import numpy as np\n",
        "import seaborn as sns\n",
        "from pylab import rcParams\n",
        "import string\n",
        "import re\n",
        "import matplotlib.pyplot as plt\n",
        "import math\n",
        "from matplotlib import rc\n",
        "from sklearn.model_selection import train_test_split\n",
        "from collections import Counter, defaultdict\n",
        "from bs4 import BeautifulSoup\n",
        "from sklearn.metrics import accuracy_score\n",
        "from sklearn.metrics import classification_report, confusion_matrix\n",
        "import nltk\n",
        "from nltk.corpus import stopwords\n",
        "from wordcloud import WordCloud\n",
        "from sklearn.feature_extraction.text import CountVectorizer, TfidfVectorizer, TfidfTransformer"
      ],
      "execution_count": 0,
      "outputs": []
    },
    {
      "cell_type": "code",
      "metadata": {
        "id": "vnxm0nnREiSK",
        "colab_type": "code",
        "colab": {
          "base_uri": "https://localhost:8080/",
          "height": 70
        },
        "outputId": "e0659001-9a9d-4647-d802-3ed08941be76"
      },
      "source": [
        "nltk.download('stopwords')"
      ],
      "execution_count": 3,
      "outputs": [
        {
          "output_type": "stream",
          "text": [
            "[nltk_data] Downloading package stopwords to /root/nltk_data...\n",
            "[nltk_data]   Package stopwords is already up-to-date!\n"
          ],
          "name": "stdout"
        },
        {
          "output_type": "execute_result",
          "data": {
            "text/plain": [
              "True"
            ]
          },
          "metadata": {
            "tags": []
          },
          "execution_count": 3
        }
      ]
    },
    {
      "cell_type": "code",
      "metadata": {
        "id": "lIMYmOZ-Erak",
        "colab_type": "code",
        "colab": {}
      },
      "source": [
        "df = pd.read_csv('https://drive.google.com/u/0/uc?id=1VRohT0ss61yxRNLJnPuR9fG98LHjESqh&export=download')"
      ],
      "execution_count": 0,
      "outputs": []
    },
    {
      "cell_type": "code",
      "metadata": {
        "id": "nfAVq5iIEwHv",
        "colab_type": "code",
        "colab": {
          "base_uri": "https://localhost:8080/",
          "height": 34
        },
        "outputId": "89d88505-5135-4585-bd3c-cc286896f2eb"
      },
      "source": [
        "df.shape"
      ],
      "execution_count": 5,
      "outputs": [
        {
          "output_type": "execute_result",
          "data": {
            "text/plain": [
              "(40000, 2)"
            ]
          },
          "metadata": {
            "tags": []
          },
          "execution_count": 5
        }
      ]
    },
    {
      "cell_type": "markdown",
      "metadata": {
        "id": "TUnzMXdjRkOj",
        "colab_type": "text"
      },
      "source": [
        "Data Cleaning and Exploration:"
      ]
    },
    {
      "cell_type": "code",
      "metadata": {
        "id": "Umd62HBORDKV",
        "colab_type": "code",
        "colab": {
          "base_uri": "https://localhost:8080/",
          "height": 70
        },
        "outputId": "baae3e6d-dfe6-4728-cd1a-3f7ce7db4be1"
      },
      "source": [
        "#Distribution, 50% majority class baseline\n",
        "\n",
        "df['label'].value_counts(True)"
      ],
      "execution_count": 6,
      "outputs": [
        {
          "output_type": "execute_result",
          "data": {
            "text/plain": [
              "0    0.500475\n",
              "1    0.499525\n",
              "Name: label, dtype: float64"
            ]
          },
          "metadata": {
            "tags": []
          },
          "execution_count": 6
        }
      ]
    },
    {
      "cell_type": "code",
      "metadata": {
        "id": "hjTWB82qRUm6",
        "colab_type": "code",
        "colab": {
          "base_uri": "https://localhost:8080/",
          "height": 281
        },
        "outputId": "cb1ddc98-fc12-490c-a018-3df0e4188e72"
      },
      "source": [
        "#Distribution bar plot\n",
        "\n",
        "ax = sns.countplot(x = 'label', data=df)\n",
        "ax.set_title(\"Sentiment distribution\")\n",
        "ax.set_xticklabels(['Negative', 'Positive'])\n",
        "plt.xlabel(\"\")\n",
        "plt.show()"
      ],
      "execution_count": 7,
      "outputs": [
        {
          "output_type": "display_data",
          "data": {
            "image/png": "[encoded data removed]",
            "text/plain": [
              "<Figure size 432x288 with 1 Axes>"
            ]
          },
          "metadata": {
            "tags": []
          }
        }
      ]
    },
    {
      "cell_type": "code",
      "metadata": {
        "id": "yCXSdnfdRdvQ",
        "colab_type": "code",
        "colab": {
          "base_uri": "https://localhost:8080/",
          "height": 166
        },
        "outputId": "b4ddb18e-7710-4454-98ae-afff4f181378"
      },
      "source": [
        "df.groupby('label').describe()"
      ],
      "execution_count": 8,
      "outputs": [
        {
          "output_type": "execute_result",
          "data": {
            "text/html": [
              "<div>\n",
              "<style scoped>\n",
              "    .dataframe tbody tr th:only-of-type {\n",
              "        vertical-align: middle;\n",
              "    }\n",
              "\n",
              "    .dataframe tbody tr th {\n",
              "        vertical-align: top;\n",
              "    }\n",
              "\n",
              "    .dataframe thead tr th {\n",
              "        text-align: left;\n",
              "    }\n",
              "\n",
              "    .dataframe thead tr:last-of-type th {\n",
              "        text-align: right;\n",
              "    }\n",
              "</style>\n",
              "<table border=\"1\" class=\"dataframe\">\n",
              "  <thead>\n",
              "    <tr>\n",
              "      <th></th>\n",
              "      <th colspan=\"4\" halign=\"left\">text</th>\n",
              "    </tr>\n",
              "    <tr>\n",
              "      <th></th>\n",
              "      <th>count</th>\n",
              "      <th>unique</th>\n",
              "      <th>top</th>\n",
              "      <th>freq</th>\n",
              "    </tr>\n",
              "    <tr>\n",
              "      <th>label</th>\n",
              "      <th></th>\n",
              "      <th></th>\n",
              "      <th></th>\n",
              "      <th></th>\n",
              "    </tr>\n",
              "  </thead>\n",
              "  <tbody>\n",
              "    <tr>\n",
              "      <th>0</th>\n",
              "      <td>20019</td>\n",
              "      <td>19815</td>\n",
              "      <td>This show comes up with interesting locations ...</td>\n",
              "      <td>3</td>\n",
              "    </tr>\n",
              "    <tr>\n",
              "      <th>1</th>\n",
              "      <td>19981</td>\n",
              "      <td>19908</td>\n",
              "      <td>Hilarious, clean, light-hearted, and quote-wor...</td>\n",
              "      <td>4</td>\n",
              "    </tr>\n",
              "  </tbody>\n",
              "</table>\n",
              "</div>"
            ],
            "text/plain": [
              "        text                                                               \n",
              "       count unique                                                top freq\n",
              "label                                                                      \n",
              "0      20019  19815  This show comes up with interesting locations ...    3\n",
              "1      19981  19908  Hilarious, clean, light-hearted, and quote-wor...    4"
            ]
          },
          "metadata": {
            "tags": []
          },
          "execution_count": 8
        }
      ]
    },
    {
      "cell_type": "code",
      "metadata": {
        "id": "bpWJu68RRhKC",
        "colab_type": "code",
        "colab": {
          "base_uri": "https://localhost:8080/",
          "height": 402
        },
        "outputId": "96c34a6c-f279-457b-fecb-bfc8fe86d9bc"
      },
      "source": [
        "#Create a length column\n",
        "\n",
        "df['length'] = df['text'].apply(len)\n",
        "df.head(100)"
      ],
      "execution_count": 9,
      "outputs": [
        {
          "output_type": "execute_result",
          "data": {
            "text/html": [
              "<div>\n",
              "<style scoped>\n",
              "    .dataframe tbody tr th:only-of-type {\n",
              "        vertical-align: middle;\n",
              "    }\n",
              "\n",
              "    .dataframe tbody tr th {\n",
              "        vertical-align: top;\n",
              "    }\n",
              "\n",
              "    .dataframe thead th {\n",
              "        text-align: right;\n",
              "    }\n",
              "</style>\n",
              "<table border=\"1\" class=\"dataframe\">\n",
              "  <thead>\n",
              "    <tr style=\"text-align: right;\">\n",
              "      <th></th>\n",
              "      <th>text</th>\n",
              "      <th>label</th>\n",
              "      <th>length</th>\n",
              "    </tr>\n",
              "  </thead>\n",
              "  <tbody>\n",
              "    <tr>\n",
              "      <th>0</th>\n",
              "      <td>I grew up (b. 1965) watching and loving the Th...</td>\n",
              "      <td>0</td>\n",
              "      <td>874</td>\n",
              "    </tr>\n",
              "    <tr>\n",
              "      <th>1</th>\n",
              "      <td>When I put this movie in my DVD player, and sa...</td>\n",
              "      <td>0</td>\n",
              "      <td>1811</td>\n",
              "    </tr>\n",
              "    <tr>\n",
              "      <th>2</th>\n",
              "      <td>Why do people who do not know what a particula...</td>\n",
              "      <td>0</td>\n",
              "      <td>983</td>\n",
              "    </tr>\n",
              "    <tr>\n",
              "      <th>3</th>\n",
              "      <td>Even though I have great interest in Biblical ...</td>\n",
              "      <td>0</td>\n",
              "      <td>351</td>\n",
              "    </tr>\n",
              "    <tr>\n",
              "      <th>4</th>\n",
              "      <td>Im a die hard Dads Army fan and nothing will e...</td>\n",
              "      <td>1</td>\n",
              "      <td>983</td>\n",
              "    </tr>\n",
              "    <tr>\n",
              "      <th>...</th>\n",
              "      <td>...</td>\n",
              "      <td>...</td>\n",
              "      <td>...</td>\n",
              "    </tr>\n",
              "    <tr>\n",
              "      <th>95</th>\n",
              "      <td>...I saw this movie when it first came out in ...</td>\n",
              "      <td>1</td>\n",
              "      <td>671</td>\n",
              "    </tr>\n",
              "    <tr>\n",
              "      <th>96</th>\n",
              "      <td>Released in December of 1957, Sayonara went on...</td>\n",
              "      <td>1</td>\n",
              "      <td>925</td>\n",
              "    </tr>\n",
              "    <tr>\n",
              "      <th>97</th>\n",
              "      <td>War, Inc. - Corporations take over war in the ...</td>\n",
              "      <td>0</td>\n",
              "      <td>2012</td>\n",
              "    </tr>\n",
              "    <tr>\n",
              "      <th>98</th>\n",
              "      <td>What is your freaking problem? Do you have not...</td>\n",
              "      <td>1</td>\n",
              "      <td>774</td>\n",
              "    </tr>\n",
              "    <tr>\n",
              "      <th>99</th>\n",
              "      <td>Dick and Jane Harper (Jim Carrey, Téa Leoni) w...</td>\n",
              "      <td>0</td>\n",
              "      <td>1861</td>\n",
              "    </tr>\n",
              "  </tbody>\n",
              "</table>\n",
              "<p>100 rows × 3 columns</p>\n",
              "</div>"
            ],
            "text/plain": [
              "                                                 text  label  length\n",
              "0   I grew up (b. 1965) watching and loving the Th...      0     874\n",
              "1   When I put this movie in my DVD player, and sa...      0    1811\n",
              "2   Why do people who do not know what a particula...      0     983\n",
              "3   Even though I have great interest in Biblical ...      0     351\n",
              "4   Im a die hard Dads Army fan and nothing will e...      1     983\n",
              "..                                                ...    ...     ...\n",
              "95  ...I saw this movie when it first came out in ...      1     671\n",
              "96  Released in December of 1957, Sayonara went on...      1     925\n",
              "97  War, Inc. - Corporations take over war in the ...      0    2012\n",
              "98  What is your freaking problem? Do you have not...      1     774\n",
              "99  Dick and Jane Harper (Jim Carrey, Téa Leoni) w...      0    1861\n",
              "\n",
              "[100 rows x 3 columns]"
            ]
          },
          "metadata": {
            "tags": []
          },
          "execution_count": 9
        }
      ]
    },
    {
      "cell_type": "code",
      "metadata": {
        "id": "4PngA_R6R_BG",
        "colab_type": "code",
        "colab": {
          "base_uri": "https://localhost:8080/",
          "height": 265
        },
        "outputId": "026bc9fd-6a57-40d7-f7fb-aa12a0bba494"
      },
      "source": [
        "#Length histogram\n",
        "\n",
        "df['length'].plot.hist(bins = 100)\n",
        "plt.show()"
      ],
      "execution_count": 10,
      "outputs": [
        {
          "output_type": "display_data",
          "data": {
            "image/png": "[encoded data removed]",
            "text/plain": [
              "<Figure size 432x288 with 1 Axes>"
            ]
          },
          "metadata": {
            "tags": []
          }
        }
      ]
    },
    {
      "cell_type": "code",
      "metadata": {
        "id": "JCm2Cr55SKcR",
        "colab_type": "code",
        "colab": {
          "base_uri": "https://localhost:8080/",
          "height": 301
        },
        "outputId": "abc8f5ab-301f-46d5-f4ee-2f1fa7528aae"
      },
      "source": [
        "#length distribution by classes\n",
        "\n",
        "df.hist(column='length', by='label', bins=100, figsize=(12,4))\n",
        "plt.show()"
      ],
      "execution_count": 11,
      "outputs": [
        {
          "output_type": "display_data",
          "data": {
            "image/png": "[encoded data removed]",
            "text/plain": [
              "<Figure size 864x288 with 2 Axes>"
            ]
          },
          "metadata": {
            "tags": []
          }
        }
      ]
    },
    {
      "cell_type": "code",
      "metadata": {
        "id": "UAwJaYOdEzPr",
        "colab_type": "code",
        "colab": {}
      },
      "source": [
        "def clean_text(X):\n",
        "  #remove HTML tags\n",
        "  X = BeautifulSoup(X).get_text()\n",
        "\n",
        "  #remove all non letters from text\n",
        "  letters_only = re.sub(\"[^a-zA-Z]\", \" \", X) \n",
        "\n",
        "  #lower case, split words\n",
        "  words = letters_only.lower().split()\n",
        "\n",
        "  #stopwords variable\n",
        "  stops = set(stopwords.words('english'))\n",
        "\n",
        "  #Remove stop words and return\n",
        "  return [w for w in words if not w in stops]"
      ],
      "execution_count": 0,
      "outputs": []
    },
    {
      "cell_type": "code",
      "metadata": {
        "id": "Ea4Fz1jGFdgi",
        "colab_type": "code",
        "colab": {
          "base_uri": "https://localhost:8080/",
          "height": 195
        },
        "outputId": "71e01021-67a9-4c6f-e842-8099ba9b8843"
      },
      "source": [
        "#clean dataframe\n",
        "#create word count feature\n",
        "\n",
        "df['clean_review'] = df['text'].apply(clean_text)\n",
        "df['word_count'] = df['clean_review'].apply(len)\n",
        "df.head()"
      ],
      "execution_count": 13,
      "outputs": [
        {
          "output_type": "execute_result",
          "data": {
            "text/html": [
              "<div>\n",
              "<style scoped>\n",
              "    .dataframe tbody tr th:only-of-type {\n",
              "        vertical-align: middle;\n",
              "    }\n",
              "\n",
              "    .dataframe tbody tr th {\n",
              "        vertical-align: top;\n",
              "    }\n",
              "\n",
              "    .dataframe thead th {\n",
              "        text-align: right;\n",
              "    }\n",
              "</style>\n",
              "<table border=\"1\" class=\"dataframe\">\n",
              "  <thead>\n",
              "    <tr style=\"text-align: right;\">\n",
              "      <th></th>\n",
              "      <th>text</th>\n",
              "      <th>label</th>\n",
              "      <th>length</th>\n",
              "      <th>clean_review</th>\n",
              "      <th>word_count</th>\n",
              "    </tr>\n",
              "  </thead>\n",
              "  <tbody>\n",
              "    <tr>\n",
              "      <th>0</th>\n",
              "      <td>I grew up (b. 1965) watching and loving the Th...</td>\n",
              "      <td>0</td>\n",
              "      <td>874</td>\n",
              "      <td>[grew, b, watching, loving, thunderbirds, mate...</td>\n",
              "      <td>85</td>\n",
              "    </tr>\n",
              "    <tr>\n",
              "      <th>1</th>\n",
              "      <td>When I put this movie in my DVD player, and sa...</td>\n",
              "      <td>0</td>\n",
              "      <td>1811</td>\n",
              "      <td>[put, movie, dvd, player, sat, coke, chips, ex...</td>\n",
              "      <td>159</td>\n",
              "    </tr>\n",
              "    <tr>\n",
              "      <th>2</th>\n",
              "      <td>Why do people who do not know what a particula...</td>\n",
              "      <td>0</td>\n",
              "      <td>983</td>\n",
              "      <td>[people, know, particular, time, past, like, f...</td>\n",
              "      <td>95</td>\n",
              "    </tr>\n",
              "    <tr>\n",
              "      <th>3</th>\n",
              "      <td>Even though I have great interest in Biblical ...</td>\n",
              "      <td>0</td>\n",
              "      <td>351</td>\n",
              "      <td>[even, though, great, interest, biblical, movi...</td>\n",
              "      <td>33</td>\n",
              "    </tr>\n",
              "    <tr>\n",
              "      <th>4</th>\n",
              "      <td>Im a die hard Dads Army fan and nothing will e...</td>\n",
              "      <td>1</td>\n",
              "      <td>983</td>\n",
              "      <td>[im, die, hard, dads, army, fan, nothing, ever...</td>\n",
              "      <td>100</td>\n",
              "    </tr>\n",
              "  </tbody>\n",
              "</table>\n",
              "</div>"
            ],
            "text/plain": [
              "                                                text  ...  word_count\n",
              "0  I grew up (b. 1965) watching and loving the Th...  ...          85\n",
              "1  When I put this movie in my DVD player, and sa...  ...         159\n",
              "2  Why do people who do not know what a particula...  ...          95\n",
              "3  Even though I have great interest in Biblical ...  ...          33\n",
              "4  Im a die hard Dads Army fan and nothing will e...  ...         100\n",
              "\n",
              "[5 rows x 5 columns]"
            ]
          },
          "metadata": {
            "tags": []
          },
          "execution_count": 13
        }
      ]
    },
    {
      "cell_type": "code",
      "metadata": {
        "id": "OeYE_uUDSzfe",
        "colab_type": "code",
        "colab": {}
      },
      "source": [
        "# Word CLoud\n",
        "\n",
        "#d_cloud = WordCloud(width = 1000, height = 500, background_color = 'black').generate(\n",
        "#                        ''.join(df['clean_review']))\n",
        "\n",
        "#plt.figure(figsize = (16,10))\n",
        "#plt.imshow(word_cloud)\n",
        "#plt.axis('off')\n",
        "#plt.show()"
      ],
      "execution_count": 0,
      "outputs": []
    },
    {
      "cell_type": "code",
      "metadata": {
        "id": "0RQQkc0oF-iq",
        "colab_type": "code",
        "colab": {}
      },
      "source": [
        "#tokenize data\n",
        "\n",
        "bow_transform = CountVectorizer(analyzer=clean_text).fit(df['text'])"
      ],
      "execution_count": 0,
      "outputs": []
    },
    {
      "cell_type": "code",
      "metadata": {
        "id": "5TcXDt6qJMlv",
        "colab_type": "code",
        "colab": {
          "base_uri": "https://localhost:8080/",
          "height": 140
        },
        "outputId": "0292204d-b429-47dc-c42e-3c8a30930c07"
      },
      "source": [
        "print(bow_transform)"
      ],
      "execution_count": 16,
      "outputs": [
        {
          "output_type": "stream",
          "text": [
            "CountVectorizer(analyzer=<function clean_text at 0x7f3132883268>, binary=False,\n",
            "                decode_error='strict', dtype=<class 'numpy.int64'>,\n",
            "                encoding='utf-8', input='content', lowercase=True, max_df=1.0,\n",
            "                max_features=None, min_df=1, ngram_range=(1, 1),\n",
            "                preprocessor=None, stop_words=None, strip_accents=None,\n",
            "                token_pattern='(?u)\\\\b\\\\w\\\\w+\\\\b', tokenizer=None,\n",
            "                vocabulary=None)\n"
          ],
          "name": "stdout"
        }
      ]
    },
    {
      "cell_type": "code",
      "metadata": {
        "id": "mYmTirlKGY8x",
        "colab_type": "code",
        "colab": {}
      },
      "source": [
        "review_bow = bow_transform.transform(df['text'])"
      ],
      "execution_count": 0,
      "outputs": []
    },
    {
      "cell_type": "code",
      "metadata": {
        "id": "veGZkElwGzDU",
        "colab_type": "code",
        "colab": {
          "base_uri": "https://localhost:8080/",
          "height": 914
        },
        "outputId": "930e2306-1a69-4790-e2cb-6bdacf24ef65"
      },
      "source": [
        "print(review_bow)"
      ],
      "execution_count": 18,
      "outputs": [
        {
          "output_type": "stream",
          "text": [
            "  (0, 408)\t1\n",
            "  (0, 1726)\t1\n",
            "  (0, 2749)\t1\n",
            "  (0, 4146)\t1\n",
            "  (0, 5361)\t1\n",
            "  (0, 6796)\t1\n",
            "  (0, 8137)\t1\n",
            "  (0, 13077)\t1\n",
            "  (0, 13130)\t1\n",
            "  (0, 13255)\t1\n",
            "  (0, 13885)\t1\n",
            "  (0, 13900)\t1\n",
            "  (0, 15915)\t1\n",
            "  (0, 16003)\t1\n",
            "  (0, 17531)\t1\n",
            "  (0, 17605)\t1\n",
            "  (0, 17983)\t1\n",
            "  (0, 21867)\t1\n",
            "  (0, 21937)\t1\n",
            "  (0, 24426)\t1\n",
            "  (0, 26450)\t1\n",
            "  (0, 29111)\t1\n",
            "  (0, 30417)\t1\n",
            "  (0, 30672)\t1\n",
            "  (0, 32524)\t1\n",
            "  :\t:\n",
            "  (39999, 47357)\t1\n",
            "  (39999, 47373)\t1\n",
            "  (39999, 48848)\t1\n",
            "  (39999, 49068)\t1\n",
            "  (39999, 51748)\t1\n",
            "  (39999, 52351)\t1\n",
            "  (39999, 54887)\t1\n",
            "  (39999, 56029)\t1\n",
            "  (39999, 65811)\t1\n",
            "  (39999, 67555)\t1\n",
            "  (39999, 68571)\t1\n",
            "  (39999, 70649)\t1\n",
            "  (39999, 70864)\t1\n",
            "  (39999, 74896)\t1\n",
            "  (39999, 75820)\t1\n",
            "  (39999, 76001)\t1\n",
            "  (39999, 76858)\t1\n",
            "  (39999, 80690)\t1\n",
            "  (39999, 81674)\t1\n",
            "  (39999, 83518)\t1\n",
            "  (39999, 83796)\t1\n",
            "  (39999, 84324)\t1\n",
            "  (39999, 88945)\t1\n",
            "  (39999, 90403)\t1\n",
            "  (39999, 90706)\t1\n"
          ],
          "name": "stdout"
        }
      ]
    },
    {
      "cell_type": "code",
      "metadata": {
        "id": "kCSot7x4Towx",
        "colab_type": "code",
        "colab": {
          "base_uri": "https://localhost:8080/",
          "height": 52
        },
        "outputId": "5611157e-4fe3-4917-d734-aa121557b34a"
      },
      "source": [
        "print(bow_transform.get_feature_names()[471])  #word at index accomplishment\n",
        "print(bow_transform.get_feature_names()[26836])  #evanescent"
      ],
      "execution_count": 19,
      "outputs": [
        {
          "output_type": "stream",
          "text": [
            "accomplishment\n",
            "evanescent\n"
          ],
          "name": "stdout"
        }
      ]
    },
    {
      "cell_type": "code",
      "metadata": {
        "id": "wZ-xiTwAG6vh",
        "colab_type": "code",
        "colab": {}
      },
      "source": [
        "#Term frequency: how frequently a term is used / length\n",
        "#IDF: Inverse Document Frequency, measures importance of the term\n",
        "#rare words have more importance, are scaled up using:\n",
        "#  IDF(t) = log_e(Total # of reviews/ # of reviews with term t in it)\n",
        "\n",
        "tfidf_transformer = TfidfTransformer().fit(review_bow)\n",
        "tfidf1 = tfidf_transformer.transform(review_bow)  #transform bow"
      ],
      "execution_count": 0,
      "outputs": []
    },
    {
      "cell_type": "code",
      "metadata": {
        "id": "HI63jie4HUNq",
        "colab_type": "code",
        "colab": {
          "base_uri": "https://localhost:8080/",
          "height": 34
        },
        "outputId": "ff2eacb5-013b-4c19-a494-ec7d7db1a584"
      },
      "source": [
        "#Split into train and test data\n",
        "\n",
        "from sklearn.model_selection import train_test_split\n",
        "\n",
        "X_train, X_test, y_train, y_test = train_test_split(df['text'], df['label'], test_size=0.22, random_state=42)\n",
        "\n",
        "#length of train, test, and df\n",
        "len(X_train), len(X_test), len(X_train) + len(X_test)"
      ],
      "execution_count": 22,
      "outputs": [
        {
          "output_type": "execute_result",
          "data": {
            "text/plain": [
              "(31200, 8800, 40000)"
            ]
          },
          "metadata": {
            "tags": []
          },
          "execution_count": 22
        }
      ]
    },
    {
      "cell_type": "code",
      "metadata": {
        "id": "b3N50LkUH8Vd",
        "colab_type": "code",
        "colab": {
          "base_uri": "https://localhost:8080/",
          "height": 122
        },
        "outputId": "85bc5c7e-43f5-4e9b-c978-171d8480e32d"
      },
      "source": [
        "X_train.head()"
      ],
      "execution_count": 23,
      "outputs": [
        {
          "output_type": "execute_result",
          "data": {
            "text/plain": [
              "14748    *Contains some spoilers* This movie is cheesy ...\n",
              "26843    My wife and I thought that with this cast and ...\n",
              "20647    Traffik is an excellent miniseries dealing wit...\n",
              "1572     Director Samuel Fuller concocts a brilliant vi...\n",
              "6657     I would not hesitate to put this adaptation of...\n",
              "Name: text, dtype: object"
            ]
          },
          "metadata": {
            "tags": []
          },
          "execution_count": 23
        }
      ]
    },
    {
      "cell_type": "markdown",
      "metadata": {
        "id": "0hmoeuqHJzz0",
        "colab_type": "text"
      },
      "source": [
        "Predictive Models:"
      ]
    },
    {
      "cell_type": "code",
      "metadata": {
        "id": "ddsOidgaH-96",
        "colab_type": "code",
        "colab": {}
      },
      "source": [
        "#Predicting & Stats Function\n",
        "def pred(predicted,compare):\n",
        "    cm = pd.crosstab(compare,predicted)\n",
        "    TN = cm.iloc[0,0]\n",
        "    FN = cm.iloc[1,0]\n",
        "    TP = cm.iloc[1,1]\n",
        "    FP = cm.iloc[0,1]\n",
        "    \n",
        "    ##check accuracy of model\n",
        "    print(\"Classification Report:\")\n",
        "    print('Accuracy : ', round(((TP+TN)*100)/(TP+TN+FP+FN),2))\n",
        "    print()\n",
        "    print('False Negative Rate : ',round((FN*100)/(FN+TP),2))\n",
        "    print()\n",
        "    print('False Postive Rate : ',round((FP*100)/(FP+TN),2))\n",
        "    print()\n",
        "    print(classification_report(compare,predicted))"
      ],
      "execution_count": 0,
      "outputs": []
    },
    {
      "cell_type": "code",
      "metadata": {
        "id": "ilKbsJtRJyT1",
        "colab_type": "code",
        "colab": {
          "base_uri": "https://localhost:8080/",
          "height": 422
        },
        "outputId": "8694a349-7c30-4b93-d62e-b888bc3c1e9d"
      },
      "source": [
        "#Logistic Regression Model\n",
        "#Model used for the app\n",
        "\n",
        "from sklearn.linear_model import LogisticRegression\n",
        "from sklearn.pipeline import Pipeline\n",
        "from bs4 import BeautifulSoup\n",
        "\n",
        "pipeline = Pipeline([\n",
        "                     ('bow', CountVectorizer(analyzer='word')),  # strings to token integer counts\n",
        "                     ('tfidf', TfidfTransformer()),  # integer counts to weighted TF-IDF scores\n",
        "                     ('classifier', LogisticRegression(random_state=101)),  # train on TF-IDF vectors\n",
        "])\n",
        "\n",
        "pipeline.fit(X_train,y_train)"
      ],
      "execution_count": 25,
      "outputs": [
        {
          "output_type": "execute_result",
          "data": {
            "text/plain": [
              "Pipeline(memory=None,\n",
              "         steps=[('bow',\n",
              "                 CountVectorizer(analyzer='word', binary=False,\n",
              "                                 decode_error='strict',\n",
              "                                 dtype=<class 'numpy.int64'>, encoding='utf-8',\n",
              "                                 input='content', lowercase=True, max_df=1.0,\n",
              "                                 max_features=None, min_df=1,\n",
              "                                 ngram_range=(1, 1), preprocessor=None,\n",
              "                                 stop_words=None, strip_accents=None,\n",
              "                                 token_pattern='(?u)\\\\b\\\\w\\\\w+\\\\b',\n",
              "                                 tokenizer=None, vocabulary=None)),\n",
              "                ('tfidf',\n",
              "                 TfidfTransformer(norm='l2', smooth_idf=True,\n",
              "                                  sublinear_tf=False, use_idf=True)),\n",
              "                ('classifier',\n",
              "                 LogisticRegression(C=1.0, class_weight=None, dual=False,\n",
              "                                    fit_intercept=True, intercept_scaling=1,\n",
              "                                    l1_ratio=None, max_iter=100,\n",
              "                                    multi_class='auto', n_jobs=None,\n",
              "                                    penalty='l2', random_state=101,\n",
              "                                    solver='lbfgs', tol=0.0001, verbose=0,\n",
              "                                    warm_start=False))],\n",
              "         verbose=False)"
            ]
          },
          "metadata": {
            "tags": []
          },
          "execution_count": 25
        }
      ]
    },
    {
      "cell_type": "code",
      "metadata": {
        "id": "yOOzxEPmKDmF",
        "colab_type": "code",
        "colab": {
          "base_uri": "https://localhost:8080/",
          "height": 298
        },
        "outputId": "20a657b9-e0e0-4813-f354-53276c6e78cc"
      },
      "source": [
        "predictions = pipeline.predict(X_train)\n",
        "pred(predictions,y_train)"
      ],
      "execution_count": 26,
      "outputs": [
        {
          "output_type": "stream",
          "text": [
            "Classification Report:\n",
            "Accuracy :  93.26\n",
            "\n",
            "False Negative Rate :  6.02\n",
            "\n",
            "False Postive Rate :  7.46\n",
            "\n",
            "              precision    recall  f1-score   support\n",
            "\n",
            "           0       0.94      0.93      0.93     15642\n",
            "           1       0.93      0.94      0.93     15558\n",
            "\n",
            "    accuracy                           0.93     31200\n",
            "   macro avg       0.93      0.93      0.93     31200\n",
            "weighted avg       0.93      0.93      0.93     31200\n",
            "\n"
          ],
          "name": "stdout"
        }
      ]
    },
    {
      "cell_type": "code",
      "metadata": {
        "id": "XTxy5Q9lK8Mo",
        "colab_type": "code",
        "colab": {
          "base_uri": "https://localhost:8080/",
          "height": 298
        },
        "outputId": "de739383-731b-4107-ed80-b2418eab49cd"
      },
      "source": [
        "#Test set results\n",
        "predictions = pipeline.predict(X_test)\n",
        "pred(predictions,y_test)"
      ],
      "execution_count": 27,
      "outputs": [
        {
          "output_type": "stream",
          "text": [
            "Classification Report:\n",
            "Accuracy :  89.43\n",
            "\n",
            "False Negative Rate :  9.74\n",
            "\n",
            "False Postive Rate :  11.4\n",
            "\n",
            "              precision    recall  f1-score   support\n",
            "\n",
            "           0       0.90      0.89      0.89      4377\n",
            "           1       0.89      0.90      0.90      4423\n",
            "\n",
            "    accuracy                           0.89      8800\n",
            "   macro avg       0.89      0.89      0.89      8800\n",
            "weighted avg       0.89      0.89      0.89      8800\n",
            "\n"
          ],
          "name": "stdout"
        }
      ]
    },
    {
      "cell_type": "code",
      "metadata": {
        "id": "Ln6S93GfLMRe",
        "colab_type": "code",
        "colab": {
          "base_uri": "https://localhost:8080/",
          "height": 292
        },
        "outputId": "011db99e-8b50-4266-f18c-fff9c68f8c34"
      },
      "source": [
        "#Plot Confusion Matrix for train\n",
        "\n",
        "from sklearn.metrics import plot_confusion_matrix\n",
        "\n",
        "titles_options = [(\"Confusion Matrix Train\", None)]\n",
        "for title, normalize in titles_options:\n",
        "    disp = plot_confusion_matrix(pipeline, X_train, y_train, values_format='d', \n",
        "                                 xticks_rotation='vertical')\n",
        "    disp.ax_.set_title(title)"
      ],
      "execution_count": 28,
      "outputs": [
        {
          "output_type": "display_data",
          "data": {
            "image/png": "[encoded data removed]",
            "text/plain": [
              "<Figure size 432x288 with 2 Axes>"
            ]
          },
          "metadata": {
            "tags": []
          }
        }
      ]
    },
    {
      "cell_type": "code",
      "metadata": {
        "id": "YwYAcnNZLwrk",
        "colab_type": "code",
        "colab": {
          "base_uri": "https://localhost:8080/",
          "height": 292
        },
        "outputId": "d3ff4eb5-8ee5-4c40-c25d-9ff3db10ca1d"
      },
      "source": [
        "#Plot Confusion Matrix for test\n",
        "\n",
        "titles_options = [(\"Confusion Matrix Test\", None)]\n",
        "for title, normalize in titles_options:\n",
        "    disp = plot_confusion_matrix(pipeline, X_test, y_test, values_format='d', \n",
        "                                 xticks_rotation='vertical')\n",
        "    disp.ax_.set_title(title)"
      ],
      "execution_count": 29,
      "outputs": [
        {
          "output_type": "display_data",
          "data": {
            "image/png": "[encoded data removed]",
            "text/plain": [
              "<Figure size 432x288 with 2 Axes>"
            ]
          },
          "metadata": {
            "tags": []
          }
        }
      ]
    },
    {
      "cell_type": "code",
      "metadata": {
        "id": "RXIcSdKqKLbs",
        "colab_type": "code",
        "colab": {
          "base_uri": "https://localhost:8080/",
          "height": 34
        },
        "outputId": "c5cea110-d7ac-4238-9980-fac2380d19e4"
      },
      "source": [
        "#Pickle the pipeline\n",
        "\n",
        "from joblib import dump\n",
        "dump(pipeline, 'pipeline.joblib', compress=True)"
      ],
      "execution_count": 30,
      "outputs": [
        {
          "output_type": "execute_result",
          "data": {
            "text/plain": [
              "['pipeline.joblib']"
            ]
          },
          "metadata": {
            "tags": []
          },
          "execution_count": 30
        }
      ]
    },
    {
      "cell_type": "code",
      "metadata": {
        "id": "PvgjFVJJKkOg",
        "colab_type": "code",
        "colab": {
          "base_uri": "https://localhost:8080/",
          "height": 34
        },
        "outputId": "6239d0ed-0da0-446a-8b7b-0c5c8ddfbb2c"
      },
      "source": [
        "!ls -lh pipeline.joblib"
      ],
      "execution_count": 31,
      "outputs": [
        {
          "output_type": "stream",
          "text": [
            "-rw-r--r-- 1 root root 2.6M Mar  6 20:15 pipeline.joblib\n"
          ],
          "name": "stdout"
        }
      ]
    },
    {
      "cell_type": "code",
      "metadata": {
        "id": "WFK55cmqKnKz",
        "colab_type": "code",
        "colab": {}
      },
      "source": [
        "#Download the pickle\n",
        "\n",
        "from google.colab import files\n",
        "#files.download('pipeline.joblib')"
      ],
      "execution_count": 0,
      "outputs": []
    },
    {
      "cell_type": "code",
      "metadata": {
        "id": "bbG5N5FrLJde",
        "colab_type": "code",
        "colab": {}
      },
      "source": [
        "#Plot ROC curve\n",
        "\n",
        "#Predicted probabilities for the positive class\n",
        "y_pred_proba = pipeline.predict_proba(X_test)[:,1]"
      ],
      "execution_count": 0,
      "outputs": []
    },
    {
      "cell_type": "code",
      "metadata": {
        "id": "MUd0VRd-MIs3",
        "colab_type": "code",
        "colab": {}
      },
      "source": [
        "# \"The ROC curve is created by plotting the true positive rate (TPR) \n",
        "# against the false positive rate (FPR) \n",
        "# at various threshold settings.\"\n",
        "\n",
        "# Use scikit-learn to calculate TPR & FPR at various thresholds\n",
        "from sklearn.metrics import roc_curve\n",
        "fpr, tpr, thresholds = roc_curve(y_test, y_pred_proba)"
      ],
      "execution_count": 0,
      "outputs": []
    },
    {
      "cell_type": "code",
      "metadata": {
        "id": "x6jCrG18MV77",
        "colab_type": "code",
        "colab": {
          "base_uri": "https://localhost:8080/",
          "height": 402
        },
        "outputId": "bd052c78-60b4-4c20-e974-a98d46717270"
      },
      "source": [
        "#False Positives and true positives\n",
        "\n",
        "pd.DataFrame({\n",
        "    'False Positive Rate': fpr, \n",
        "    'True Positive Rate': tpr, \n",
        "    'Threshold': thresholds\n",
        "})"
      ],
      "execution_count": 35,
      "outputs": [
        {
          "output_type": "execute_result",
          "data": {
            "text/html": [
              "<div>\n",
              "<style scoped>\n",
              "    .dataframe tbody tr th:only-of-type {\n",
              "        vertical-align: middle;\n",
              "    }\n",
              "\n",
              "    .dataframe tbody tr th {\n",
              "        vertical-align: top;\n",
              "    }\n",
              "\n",
              "    .dataframe thead th {\n",
              "        text-align: right;\n",
              "    }\n",
              "</style>\n",
              "<table border=\"1\" class=\"dataframe\">\n",
              "  <thead>\n",
              "    <tr style=\"text-align: right;\">\n",
              "      <th></th>\n",
              "      <th>False Positive Rate</th>\n",
              "      <th>True Positive Rate</th>\n",
              "      <th>Threshold</th>\n",
              "    </tr>\n",
              "  </thead>\n",
              "  <tbody>\n",
              "    <tr>\n",
              "      <th>0</th>\n",
              "      <td>0.000000</td>\n",
              "      <td>0.000000</td>\n",
              "      <td>1.999118</td>\n",
              "    </tr>\n",
              "    <tr>\n",
              "      <th>1</th>\n",
              "      <td>0.000000</td>\n",
              "      <td>0.000226</td>\n",
              "      <td>0.999118</td>\n",
              "    </tr>\n",
              "    <tr>\n",
              "      <th>2</th>\n",
              "      <td>0.000000</td>\n",
              "      <td>0.050418</td>\n",
              "      <td>0.976292</td>\n",
              "    </tr>\n",
              "    <tr>\n",
              "      <th>3</th>\n",
              "      <td>0.000000</td>\n",
              "      <td>0.050870</td>\n",
              "      <td>0.976287</td>\n",
              "    </tr>\n",
              "    <tr>\n",
              "      <th>4</th>\n",
              "      <td>0.000000</td>\n",
              "      <td>0.051549</td>\n",
              "      <td>0.976018</td>\n",
              "    </tr>\n",
              "    <tr>\n",
              "      <th>...</th>\n",
              "      <td>...</td>\n",
              "      <td>...</td>\n",
              "      <td>...</td>\n",
              "    </tr>\n",
              "    <tr>\n",
              "      <th>1375</th>\n",
              "      <td>0.972355</td>\n",
              "      <td>0.999548</td>\n",
              "      <td>0.004640</td>\n",
              "    </tr>\n",
              "    <tr>\n",
              "      <th>1376</th>\n",
              "      <td>0.972355</td>\n",
              "      <td>0.999774</td>\n",
              "      <td>0.004588</td>\n",
              "    </tr>\n",
              "    <tr>\n",
              "      <th>1377</th>\n",
              "      <td>0.995202</td>\n",
              "      <td>0.999774</td>\n",
              "      <td>0.001041</td>\n",
              "    </tr>\n",
              "    <tr>\n",
              "      <th>1378</th>\n",
              "      <td>0.995202</td>\n",
              "      <td>1.000000</td>\n",
              "      <td>0.000981</td>\n",
              "    </tr>\n",
              "    <tr>\n",
              "      <th>1379</th>\n",
              "      <td>1.000000</td>\n",
              "      <td>1.000000</td>\n",
              "      <td>0.000028</td>\n",
              "    </tr>\n",
              "  </tbody>\n",
              "</table>\n",
              "<p>1380 rows × 3 columns</p>\n",
              "</div>"
            ],
            "text/plain": [
              "      False Positive Rate  True Positive Rate  Threshold\n",
              "0                0.000000            0.000000   1.999118\n",
              "1                0.000000            0.000226   0.999118\n",
              "2                0.000000            0.050418   0.976292\n",
              "3                0.000000            0.050870   0.976287\n",
              "4                0.000000            0.051549   0.976018\n",
              "...                   ...                 ...        ...\n",
              "1375             0.972355            0.999548   0.004640\n",
              "1376             0.972355            0.999774   0.004588\n",
              "1377             0.995202            0.999774   0.001041\n",
              "1378             0.995202            1.000000   0.000981\n",
              "1379             1.000000            1.000000   0.000028\n",
              "\n",
              "[1380 rows x 3 columns]"
            ]
          },
          "metadata": {
            "tags": []
          },
          "execution_count": 35
        }
      ]
    },
    {
      "cell_type": "code",
      "metadata": {
        "id": "gDHrAiijMmDE",
        "colab_type": "code",
        "colab": {
          "base_uri": "https://localhost:8080/",
          "height": 295
        },
        "outputId": "85155f2e-383b-4b25-927a-4d24e28dbabf"
      },
      "source": [
        "# This is the \"Receiver Operating Characteristic\" curve\n",
        "\n",
        "plt.scatter(fpr, tpr)\n",
        "plt.title('ROC curve')\n",
        "plt.xlabel('False Positive Rate')\n",
        "plt.ylabel('True Positive Rate');"
      ],
      "execution_count": 36,
      "outputs": [
        {
          "output_type": "display_data",
          "data": {
            "image/png": "[encoded data removed]",
            "text/plain": [
              "<Figure size 432x288 with 1 Axes>"
            ]
          },
          "metadata": {
            "tags": []
          }
        }
      ]
    },
    {
      "cell_type": "code",
      "metadata": {
        "id": "rAU8rkmxMuFg",
        "colab_type": "code",
        "colab": {
          "base_uri": "https://localhost:8080/",
          "height": 34
        },
        "outputId": "5abbda71-737e-4318-bbc4-2ed5bbe3d438"
      },
      "source": [
        "# Use scikit-learn to calculate the area under the curve.\n",
        "from sklearn.metrics import roc_auc_score\n",
        "roc_auc_score(y_test, y_pred_proba)"
      ],
      "execution_count": 37,
      "outputs": [
        {
          "output_type": "execute_result",
          "data": {
            "text/plain": [
              "0.9603496397189779"
            ]
          },
          "metadata": {
            "tags": []
          },
          "execution_count": 37
        }
      ]
    },
    {
      "cell_type": "markdown",
      "metadata": {
        "id": "_a1jVkXPPoVo",
        "colab_type": "text"
      },
      "source": [
        "More Models:"
      ]
    },
    {
      "cell_type": "code",
      "metadata": {
        "id": "pCPJkyThPp-v",
        "colab_type": "code",
        "colab": {}
      },
      "source": [
        "#XGBoost\n",
        "\n",
        "import category_encoders as ce\n",
        "from sklearn.pipeline import make_pipeline\n",
        "from xgboost import XGBClassifier\n",
        "\n",
        "pipeline = Pipeline([\n",
        "    ('bow', CountVectorizer(analyzer=clean_text)),  # strings to token integer counts\n",
        "    ('tfidf', TfidfTransformer()),  # integer counts to weighted TF-IDF scores\n",
        "    ('classifier', XGBClassifier(n_estimators = 500)),  # train on TF-IDF vectors \n",
        "])\n",
        "\n",
        "pipeline.fit(X_train,y_train)\n",
        "predictions = pipeline.predict(X_train)\n",
        "pred(predictions,y_train)"
      ],
      "execution_count": 0,
      "outputs": []
    },
    {
      "cell_type": "code",
      "metadata": {
        "id": "6s5KRrYcP76n",
        "colab_type": "code",
        "colab": {}
      },
      "source": [
        "#Decision Tree\n",
        "\n",
        "from sklearn.tree import DecisionTreeClassifier\n",
        "from sklearn.ensemble import RandomForestClassifier\n",
        "\n",
        "pipeline = Pipeline([\n",
        "    ('bow', CountVectorizer(analyzer=clean_text)),  # strings to token integer counts\n",
        "    ('tfidf', TfidfTransformer()),  # integer counts to weighted TF-IDF scores\n",
        "    ('classifier', DecisionTreeClassifier(max_depth=40, min_samples_leaf=5, random_state=42)),  # train on TF-IDF vectors \n",
        "])\n",
        "\n",
        "pipeline.fit(X_train,y_train)\n",
        "predictions = pipeline.predict(X_train)\n",
        "pred(predictions,y_train)"
      ],
      "execution_count": 0,
      "outputs": []
    },
    {
      "cell_type": "code",
      "metadata": {
        "id": "iOgJ7JwvQF5h",
        "colab_type": "code",
        "colab": {}
      },
      "source": [
        "model = Pipeline([\n",
        "    ('bow', CountVectorizer(analyzer=clean_text)),  # strings to token integer counts\n",
        "    ('tfidf', TfidfTransformer()),  # integer counts to weighted TF-IDF scores\n",
        "    ('classifier', RandomForestClassifier(max_depth=40, min_samples_leaf=5, random_state=42)),  # train on TF-IDF vectors \n",
        "])\n",
        "\n",
        "pipeline.fit(X_train,y_train)\n",
        "predictions = pipeline.predict(X_train)\n",
        "pred(predictions,y_train)"
      ],
      "execution_count": 0,
      "outputs": []
    },
    {
      "cell_type": "markdown",
      "metadata": {
        "id": "0_mmXhOhMzNp",
        "colab_type": "text"
      },
      "source": [
        "Prediction Function for App:"
      ]
    },
    {
      "cell_type": "code",
      "metadata": {
        "id": "yBm_jAr3OCyE",
        "colab_type": "code",
        "colab": {}
      },
      "source": [
        "#Need a prediction function\n",
        "\n",
        "def predict(text): \n",
        "    #if clicked:\n",
        "        text = [text]\n",
        "        y_pred = pipeline.predict(text)\n",
        "        if y_pred[0] == 0:\n",
        "            y_pred = 'negative'\n",
        "        else:\n",
        "            y_pred = 'positive'\n",
        "        output = [f'This review is {y_pred}.']\n",
        "        return output"
      ],
      "execution_count": 0,
      "outputs": []
    },
    {
      "cell_type": "code",
      "metadata": {
        "id": "iWyvJruPNOjc",
        "colab_type": "code",
        "colab": {}
      },
      "source": [
        "#Negative \n",
        "\n",
        "predict('This movie is the worst. I hated it.')"
      ],
      "execution_count": 0,
      "outputs": []
    },
    {
      "cell_type": "code",
      "metadata": {
        "id": "EV6eM2dZNW4v",
        "colab_type": "code",
        "colab": {}
      },
      "source": [
        "#Positive\n",
        "\n",
        "predict('I love this movie so much I am going to watch it every day for the rest of my life')"
      ],
      "execution_count": 0,
      "outputs": []
    },
    {
      "cell_type": "markdown",
      "metadata": {
        "id": "FLJSvvxxUzHM",
        "colab_type": "text"
      },
      "source": [
        "Visualization:"
      ]
    },
    {
      "cell_type": "code",
      "metadata": {
        "id": "6u5kvzBpVIr2",
        "colab_type": "code",
        "colab": {}
      },
      "source": [
        "from sklearn.feature_extraction.text import TfidfVectorizer\n",
        "\n",
        "vectorizer = TfidfVectorizer(analyzer='word',\n",
        "                             ngram_range=(1,1),\n",
        "                             binary=True, #binary instead of count\n",
        "                             max_df=0.9, #remove words that are too frequent\n",
        "                             min_df=10, #remove words that are too rare\n",
        "                             max_features = None)"
      ],
      "execution_count": 0,
      "outputs": []
    },
    {
      "cell_type": "code",
      "metadata": {
        "id": "e1UVaLHHVNpy",
        "colab_type": "code",
        "colab": {}
      },
      "source": [
        "X_vect_train = vectorizer.fit_transform(X_train)"
      ],
      "execution_count": 0,
      "outputs": []
    },
    {
      "cell_type": "code",
      "metadata": {
        "id": "ukc_zNhkVUCL",
        "colab_type": "code",
        "colab": {}
      },
      "source": [
        "#Another logistic regression model\n",
        "\n",
        "logreg = LogisticRegression()"
      ],
      "execution_count": 0,
      "outputs": []
    },
    {
      "cell_type": "code",
      "metadata": {
        "id": "kxX_zqIZVaXf",
        "colab_type": "code",
        "colab": {}
      },
      "source": [
        "logreg.fit(X_vect_train, y_train)"
      ],
      "execution_count": 0,
      "outputs": []
    },
    {
      "cell_type": "code",
      "metadata": {
        "id": "Ru3aX6u9VrtR",
        "colab_type": "code",
        "colab": {}
      },
      "source": [
        "#Performance\n",
        "#need roc_auc_score visualization\n",
        "\n",
        "from sklearn.metrics import accuracy_score, roc_auc_score\n",
        "\n",
        "p_valid = logreg.predict_proba(vectorizer.transform(X_test))"
      ],
      "execution_count": 0,
      "outputs": []
    },
    {
      "cell_type": "code",
      "metadata": {
        "id": "4pkqOjOLVwkE",
        "colab_type": "code",
        "colab": {}
      },
      "source": [
        "accuracy_score(y_test, p_valid.argmax(axis=1))"
      ],
      "execution_count": 0,
      "outputs": []
    },
    {
      "cell_type": "code",
      "metadata": {
        "id": "Xfg1T4taV7PW",
        "colab_type": "code",
        "colab": {}
      },
      "source": [
        "vectorizer.vocabulary_['good']"
      ],
      "execution_count": 0,
      "outputs": []
    },
    {
      "cell_type": "code",
      "metadata": {
        "id": "A5hl3tDgV9jY",
        "colab_type": "code",
        "colab": {}
      },
      "source": [
        "vectorizer.vocabulary_['truly']"
      ],
      "execution_count": 0,
      "outputs": []
    },
    {
      "cell_type": "code",
      "metadata": {
        "id": "lSlgHiHIWAqA",
        "colab_type": "code",
        "colab": {}
      },
      "source": [
        "#Store in a dataframe\n",
        "\n",
        "coefs = pd.DataFrame(columns=['word'])\n",
        "for word, ind in vectorizer.vocabulary_.items():\n",
        "    coefs.loc[ind, 'word'] = word\n",
        "coefs.sort_index(inplace=True)"
      ],
      "execution_count": 0,
      "outputs": []
    },
    {
      "cell_type": "code",
      "metadata": {
        "id": "aER2Rlw4WDgo",
        "colab_type": "code",
        "colab": {}
      },
      "source": [
        "coefs.head(10)"
      ],
      "execution_count": 0,
      "outputs": []
    },
    {
      "cell_type": "code",
      "metadata": {
        "id": "voKdv8gJWMLb",
        "colab_type": "code",
        "colab": {}
      },
      "source": [
        "#coefficients stored in an array\n",
        "\n",
        "logreg.coef_"
      ],
      "execution_count": 0,
      "outputs": []
    },
    {
      "cell_type": "code",
      "metadata": {
        "id": "ctYykpgFWN79",
        "colab_type": "code",
        "colab": {}
      },
      "source": [
        "#word order corresponds to coefficient order\n",
        "\n",
        "coefs['coefs'] = logreg.coef_[0]"
      ],
      "execution_count": 0,
      "outputs": []
    },
    {
      "cell_type": "code",
      "metadata": {
        "id": "FvGM6V06WZfu",
        "colab_type": "code",
        "colab": {}
      },
      "source": [
        "#Get most relevant words\n",
        "\n",
        "most_relevant_words = coefs.iloc[np.argsort(coefs.coefs.abs())].tail(20)"
      ],
      "execution_count": 0,
      "outputs": []
    },
    {
      "cell_type": "code",
      "metadata": {
        "id": "qVjG2Ak3Wb-1",
        "colab_type": "code",
        "colab": {}
      },
      "source": [
        "#Check least relevant words\n",
        "\n",
        "least_relevant_words = coefs.iloc[np.argsort(coefs.coefs.abs())].head(20)"
      ],
      "execution_count": 0,
      "outputs": []
    },
    {
      "cell_type": "code",
      "metadata": {
        "id": "RmQEX5dmWg6W",
        "colab_type": "code",
        "colab": {}
      },
      "source": [
        "most_relevant_words.sort_values('coefs', inplace=True)"
      ],
      "execution_count": 0,
      "outputs": []
    },
    {
      "cell_type": "code",
      "metadata": {
        "id": "WERcfOUGWkr2",
        "colab_type": "code",
        "colab": {}
      },
      "source": [
        "def plot_coefs(words, impacts):\n",
        "    plt.figure(figsize=(12,10))\n",
        "    pos_ind = (impacts > 0)\n",
        "    position = np.arange(len(words))\n",
        "    plt.barh(y=position[pos_ind], width=impacts[pos_ind], color='green')\n",
        "    plt.barh(y=position[~pos_ind], width=impacts[~pos_ind], color='red')\n",
        "    plt.yticks(position + 0.4 ,words)\n",
        "    plt.title(\"Words Commonly Found in Positive and Negative Movie Reviews\", fontsize=16, fontweight=\"bold\")\n",
        "    plt.show()"
      ],
      "execution_count": 0,
      "outputs": []
    },
    {
      "cell_type": "code",
      "metadata": {
        "id": "J5ZSns8PWn-c",
        "colab_type": "code",
        "colab": {}
      },
      "source": [
        "print(most_relevant_words.word.values)"
      ],
      "execution_count": 0,
      "outputs": []
    },
    {
      "cell_type": "code",
      "metadata": {
        "id": "xwhxhd7OWs_W",
        "colab_type": "code",
        "colab": {}
      },
      "source": [
        "print(most_relevant_words.coefs.values)"
      ],
      "execution_count": 0,
      "outputs": []
    },
    {
      "cell_type": "code",
      "metadata": {
        "id": "WxhdbaW2Wv8p",
        "colab_type": "code",
        "colab": {}
      },
      "source": [
        "plot_coefs(most_relevant_words.word.values, most_relevant_words.coefs.values)"
      ],
      "execution_count": 0,
      "outputs": []
    }
  ]
}